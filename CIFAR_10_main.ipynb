{
  "metadata": {
    "kernelspec": {
      "language": "python",
      "display_name": "Python 3",
      "name": "python3"
    },
    "language_info": {
      "name": "python",
      "version": "3.10.14",
      "mimetype": "text/x-python",
      "codemirror_mode": {
        "name": "ipython",
        "version": 3
      },
      "pygments_lexer": "ipython3",
      "nbconvert_exporter": "python",
      "file_extension": ".py"
    },
    "kaggle": {
      "accelerator": "none",
      "dataSources": [
        {
          "sourceId": 9578214,
          "sourceType": "datasetVersion",
          "datasetId": 5839445
        }
      ],
      "dockerImageVersionId": 30786,
      "isInternetEnabled": true,
      "language": "python",
      "sourceType": "notebook",
      "isGpuEnabled": false
    },
    "colab": {
      "name": "CIFAR-10-main",
      "provenance": []
    }
  },
  "nbformat_minor": 0,
  "nbformat": 4,
  "cells": [
    {
      "source": [
        "# IMPORTANT: SOME KAGGLE DATA SOURCES ARE PRIVATE\n",
        "# RUN THIS CELL IN ORDER TO IMPORT YOUR KAGGLE DATA SOURCES.\n",
        "import kagglehub\n",
        "kagglehub.login()\n"
      ],
      "metadata": {
        "id": "HyPsT34qLrqh"
      },
      "cell_type": "code",
      "outputs": [],
      "execution_count": null
    },
    {
      "source": [
        "# IMPORTANT: RUN THIS CELL IN ORDER TO IMPORT YOUR KAGGLE DATA SOURCES,\n",
        "# THEN FEEL FREE TO DELETE THIS CELL.\n",
        "# NOTE: THIS NOTEBOOK ENVIRONMENT DIFFERS FROM KAGGLE'S PYTHON\n",
        "# ENVIRONMENT SO THERE MAY BE MISSING LIBRARIES USED BY YOUR\n",
        "# NOTEBOOK.\n",
        "\n",
        "harshita8850_cifar_10_custom_path = kagglehub.dataset_download('harshita8850/cifar-10-custom')\n",
        "\n",
        "print('Data source import complete.')\n"
      ],
      "metadata": {
        "id": "TwgkLWFOLrqj"
      },
      "cell_type": "code",
      "outputs": [],
      "execution_count": null
    },
    {
      "cell_type": "code",
      "source": [
        "import pandas as pd\n",
        "import numpy as np\n",
        "import matplotlib.pyplot as plt\n",
        "%matplotlib inline\n",
        "\n",
        "import tensorflow as tf\n",
        "from tensorflow.keras.datasets import cifar10\n",
        "from tensorflow.keras.utils import to_categorical\n",
        "\n",
        "from tensorflow.keras.models import Sequential\n",
        "from tensorflow.keras.layers import Dense, Conv2D, MaxPool2D, Flatten, Dropout, BatchNormalization\n",
        "from tensorflow.keras.callbacks import EarlyStopping\n",
        "from tensorflow.keras.preprocessing.image import ImageDataGenerator\n",
        "\n",
        "from sklearn.metrics import ConfusionMatrixDisplay\n",
        "from sklearn.metrics import classification_report, confusion_matrix"
      ],
      "metadata": {
        "_uuid": "8f2839f25d086af736a60e9eeb907d3b93b6e0e5",
        "_cell_guid": "b1076dfc-b9ad-4769-8c92-a6c4dae69d19",
        "execution": {
          "iopub.status.busy": "2024-10-09T17:51:20.261031Z",
          "iopub.execute_input": "2024-10-09T17:51:20.26146Z",
          "iopub.status.idle": "2024-10-09T17:51:36.78867Z",
          "shell.execute_reply.started": "2024-10-09T17:51:20.261416Z",
          "shell.execute_reply": "2024-10-09T17:51:36.787404Z"
        },
        "trusted": true,
        "id": "e9-95p27Lrql"
      },
      "execution_count": null,
      "outputs": []
    },
    {
      "cell_type": "markdown",
      "source": [
        "# Load the data"
      ],
      "metadata": {
        "id": "5QCKXx1WLrqn"
      }
    },
    {
      "cell_type": "code",
      "source": [
        "(X_train, y_train), (X_test, y_test) = cifar10.load_data()\n",
        "\n",
        "print(f\"X_train shape: {X_train.shape}\")\n",
        "print(f\"y_train shape: {y_train.shape}\")\n",
        "print(f\"X_test shape: {X_test.shape}\")\n",
        "print(f\"y_test shape: {y_test.shape}\")"
      ],
      "metadata": {
        "execution": {
          "iopub.status.busy": "2024-10-09T17:51:36.790958Z",
          "iopub.execute_input": "2024-10-09T17:51:36.791609Z",
          "iopub.status.idle": "2024-10-09T17:51:48.50203Z",
          "shell.execute_reply.started": "2024-10-09T17:51:36.791564Z",
          "shell.execute_reply": "2024-10-09T17:51:48.500853Z"
        },
        "trusted": true,
        "id": "FKQTOVUtLrqp"
      },
      "execution_count": null,
      "outputs": []
    },
    {
      "cell_type": "markdown",
      "source": [
        "# Data Visualization"
      ],
      "metadata": {
        "id": "Jn3vT3U3Lrqq"
      }
    },
    {
      "cell_type": "code",
      "source": [
        "# Define the labels of the dataset\n",
        "labels = ['airplane', 'automobile', 'bird', 'cat', 'deer',\n",
        "          'dog', 'frog', 'horse', 'ship', 'truck']\n",
        "\n",
        "# Let's view more images in a grid format\n",
        "# Define the dimensions of the plot grid\n",
        "W_grid = 10\n",
        "L_grid = 10\n",
        "\n",
        "# fig, axes = plt.subplots(L_grid, W_grid)\n",
        "# subplot return the figure object and axes object\n",
        "# we can use the axes object to plot specific figures at various locations\n",
        "\n",
        "fig, axes = plt.subplots(L_grid, W_grid, figsize = (17,17))\n",
        "\n",
        "axes = axes.ravel() # flaten the 15 x 15 matrix into 225 array\n",
        "\n",
        "n_train = len(X_train) # get the length of the train dataset\n",
        "\n",
        "# Select a random number from 0 to n_train\n",
        "for i in np.arange(0, W_grid * L_grid): # create evenly spaces variables\n",
        "\n",
        "    # Select a random number\n",
        "    index = np.random.randint(0, n_train)\n",
        "    # read and display an image with the selected index\n",
        "    axes[i].imshow(X_train[index,1:])\n",
        "    label_index = int(y_train[index])\n",
        "    axes[i].set_title(labels[label_index], fontsize = 8)\n",
        "    axes[i].axis('off')\n",
        "\n",
        "plt.subplots_adjust(hspace=0.4)"
      ],
      "metadata": {
        "execution": {
          "iopub.status.busy": "2024-10-09T17:51:48.50339Z",
          "iopub.execute_input": "2024-10-09T17:51:48.503758Z",
          "iopub.status.idle": "2024-10-09T17:51:55.419968Z",
          "shell.execute_reply.started": "2024-10-09T17:51:48.503719Z",
          "shell.execute_reply": "2024-10-09T17:51:55.41858Z"
        },
        "trusted": true,
        "id": "wAup-HTeLrqr"
      },
      "execution_count": null,
      "outputs": []
    },
    {
      "cell_type": "code",
      "source": [],
      "metadata": {
        "id": "adiMaY92Lrqs"
      },
      "execution_count": null,
      "outputs": []
    },
    {
      "cell_type": "code",
      "source": [
        "classes_name = ['Airplane', 'Automobile', 'Bird', 'Cat', 'Deer', 'Dog', 'Frog', 'Horse', 'Ship', 'Truck']\n",
        "\n",
        "classes, counts = np.unique(y_train, return_counts=True)\n",
        "plt.barh(classes_name, counts)\n",
        "plt.title('Class distribution in training set')"
      ],
      "metadata": {
        "execution": {
          "iopub.status.busy": "2024-10-09T17:51:55.422777Z",
          "iopub.execute_input": "2024-10-09T17:51:55.423202Z",
          "iopub.status.idle": "2024-10-09T17:51:55.767794Z",
          "shell.execute_reply.started": "2024-10-09T17:51:55.42316Z",
          "shell.execute_reply": "2024-10-09T17:51:55.766607Z"
        },
        "trusted": true,
        "id": "4aHXkv8gLrqt"
      },
      "execution_count": null,
      "outputs": []
    },
    {
      "cell_type": "code",
      "source": [
        "classes, counts = np.unique(y_test, return_counts=True)\n",
        "plt.barh(classes_name, counts)\n",
        "plt.title('Class distribution in testing set')"
      ],
      "metadata": {
        "execution": {
          "iopub.status.busy": "2024-10-09T17:51:55.769334Z",
          "iopub.execute_input": "2024-10-09T17:51:55.769844Z",
          "iopub.status.idle": "2024-10-09T17:51:56.043595Z",
          "shell.execute_reply.started": "2024-10-09T17:51:55.769791Z",
          "shell.execute_reply": "2024-10-09T17:51:56.042377Z"
        },
        "trusted": true,
        "id": "zlC1381zLrqt"
      },
      "execution_count": null,
      "outputs": []
    },
    {
      "cell_type": "markdown",
      "source": [
        "# Data Preprocessing"
      ],
      "metadata": {
        "id": "BxTDwsp7Lrqu"
      }
    },
    {
      "cell_type": "code",
      "source": [
        "# Scale the data\n",
        "X_train = X_train / 255.0\n",
        "X_test = X_test / 255.0\n",
        "\n",
        "# Transform target variable into one-hotencoding\n",
        "y_cat_train = to_categorical(y_train, 10)\n",
        "y_cat_test = to_categorical(y_test, 10)"
      ],
      "metadata": {
        "execution": {
          "iopub.status.busy": "2024-10-09T17:51:56.045226Z",
          "iopub.execute_input": "2024-10-09T17:51:56.046118Z",
          "iopub.status.idle": "2024-10-09T17:51:56.739546Z",
          "shell.execute_reply.started": "2024-10-09T17:51:56.046059Z",
          "shell.execute_reply": "2024-10-09T17:51:56.738343Z"
        },
        "trusted": true,
        "id": "w1tdkKV4Lrqv"
      },
      "execution_count": null,
      "outputs": []
    },
    {
      "cell_type": "code",
      "source": [
        "y_cat_train"
      ],
      "metadata": {
        "execution": {
          "iopub.status.busy": "2024-10-09T17:51:56.740788Z",
          "iopub.execute_input": "2024-10-09T17:51:56.741238Z",
          "iopub.status.idle": "2024-10-09T17:51:56.75026Z",
          "shell.execute_reply.started": "2024-10-09T17:51:56.741189Z",
          "shell.execute_reply": "2024-10-09T17:51:56.748919Z"
        },
        "trusted": true,
        "id": "Eny_TYPMLrqv"
      },
      "execution_count": null,
      "outputs": []
    },
    {
      "cell_type": "code",
      "source": [],
      "metadata": {
        "id": "xgC--ANWLrqw"
      },
      "execution_count": null,
      "outputs": []
    },
    {
      "cell_type": "code",
      "source": [
        "INPUT_SHAPE = (32, 32, 3)\n",
        "KERNEL_SIZE = (3, 3)\n",
        "model = Sequential()\n",
        "\n",
        "# Convolutional Layer\n",
        "model.add(Conv2D(filters=32, kernel_size=KERNEL_SIZE, input_shape=INPUT_SHAPE, activation='relu', padding='same'))\n",
        "model.add(BatchNormalization())\n",
        "model.add(Conv2D(filters=32, kernel_size=KERNEL_SIZE, input_shape=INPUT_SHAPE, activation='relu', padding='same'))\n",
        "model.add(BatchNormalization())\n",
        "# Pooling layer\n",
        "model.add(MaxPool2D(pool_size=(2, 2)))\n",
        "# Dropout layers\n",
        "model.add(Dropout(0.25))\n",
        "\n",
        "model.add(Conv2D(filters=64, kernel_size=KERNEL_SIZE, input_shape=INPUT_SHAPE, activation='relu', padding='same'))\n",
        "model.add(BatchNormalization())\n",
        "model.add(Conv2D(filters=64, kernel_size=KERNEL_SIZE, input_shape=INPUT_SHAPE, activation='relu', padding='same'))\n",
        "model.add(BatchNormalization())\n",
        "model.add(MaxPool2D(pool_size=(2, 2)))\n",
        "model.add(Dropout(0.25))\n",
        "\n",
        "model.add(Conv2D(filters=128, kernel_size=KERNEL_SIZE, input_shape=INPUT_SHAPE, activation='relu', padding='same'))\n",
        "model.add(BatchNormalization())\n",
        "model.add(Conv2D(filters=128, kernel_size=KERNEL_SIZE, input_shape=INPUT_SHAPE, activation='relu', padding='same'))\n",
        "model.add(BatchNormalization())\n",
        "model.add(MaxPool2D(pool_size=(2, 2)))\n",
        "model.add(Dropout(0.25))\n",
        "\n",
        "model.add(Flatten())\n",
        "# model.add(Dropout(0.2))\n",
        "model.add(Dense(128, activation='relu'))\n",
        "model.add(Dropout(0.25))\n",
        "model.add(Dense(10, activation='softmax'))\n",
        "\n",
        "METRICS = [\n",
        "    'accuracy',\n",
        "    tf.keras.metrics.Precision(name='precision'),\n",
        "    tf.keras.metrics.Recall(name='recall')\n",
        "]\n",
        "model.compile(loss='categorical_crossentropy', optimizer='adam', metrics=METRICS)"
      ],
      "metadata": {
        "execution": {
          "iopub.status.busy": "2024-10-09T17:51:56.75195Z",
          "iopub.execute_input": "2024-10-09T17:51:56.752341Z",
          "iopub.status.idle": "2024-10-09T17:51:57.215246Z",
          "shell.execute_reply.started": "2024-10-09T17:51:56.752302Z",
          "shell.execute_reply": "2024-10-09T17:51:57.214175Z"
        },
        "trusted": true,
        "id": "XPpm-NTlLrqw"
      },
      "execution_count": null,
      "outputs": []
    },
    {
      "cell_type": "code",
      "source": [
        "model.summary()"
      ],
      "metadata": {
        "execution": {
          "iopub.status.busy": "2024-10-09T17:51:57.216634Z",
          "iopub.execute_input": "2024-10-09T17:51:57.217013Z",
          "iopub.status.idle": "2024-10-09T17:51:57.267343Z",
          "shell.execute_reply.started": "2024-10-09T17:51:57.216974Z",
          "shell.execute_reply": "2024-10-09T17:51:57.266331Z"
        },
        "trusted": true,
        "id": "vqHBWVMqLrqx"
      },
      "execution_count": null,
      "outputs": []
    },
    {
      "cell_type": "markdown",
      "source": [
        "# Model Evaluation"
      ],
      "metadata": {
        "id": "AUGnU5wSLrqy"
      }
    },
    {
      "cell_type": "code",
      "source": [
        "import numpy as np\n",
        "from tensorflow.keras.models import Sequential\n",
        "from tensorflow.keras.layers import Conv2D, MaxPooling2D, Flatten, Dense\n",
        "from tensorflow.keras.datasets import cifar10\n",
        "\n",
        "# Load CIFAR-10 dataset\n",
        "(X_train, y_train), (X_test, y_test) = cifar10.load_data()\n",
        "\n",
        "# Normalize the images to the range [0, 1]\n",
        "X_train = X_train.astype('float32') / 255.0\n",
        "X_test = X_test.astype('float32') / 255.0\n",
        "\n",
        "# Split the test set into validation and test sets\n",
        "X_val = X_test[:5000]  # First 5000 images for validation\n",
        "y_val = y_test[:5000]  # Corresponding labels for validation\n",
        "X_test = X_test[5000:]  # Remaining images for testing\n",
        "y_test = y_test[5000:]  # Corresponding labels for testing\n",
        "\n",
        "# Define a simple CNN model\n",
        "model = Sequential([\n",
        "    Conv2D(32, (3, 3), activation='relu', input_shape=(32, 32, 3)),\n",
        "    MaxPooling2D(pool_size=(2, 2)),\n",
        "    Flatten(),\n",
        "    Dense(128, activation='relu'),\n",
        "    Dense(10, activation='softmax')\n",
        "])\n",
        "\n",
        "# Compile the model\n",
        "model.compile(optimizer='adam', loss='sparse_categorical_crossentropy', metrics=['accuracy'])\n",
        "\n",
        "# Train the model\n",
        "r = model.fit(X_train, y_train,\n",
        "               validation_data=(X_val, y_val),\n",
        "               epochs=10,\n",
        "               batch_size=32)\n",
        "\n",
        "# Optionally evaluate the model on the test set\n",
        "test_loss, test_accuracy = model.evaluate(X_test, y_test)\n",
        "print(f'Test accuracy: {test_accuracy:.4f}')"
      ],
      "metadata": {
        "execution": {
          "iopub.status.busy": "2024-10-10T07:09:27.437727Z",
          "iopub.execute_input": "2024-10-10T07:09:27.439124Z",
          "iopub.status.idle": "2024-10-10T07:13:31.078505Z",
          "shell.execute_reply.started": "2024-10-10T07:09:27.439056Z",
          "shell.execute_reply": "2024-10-10T07:13:31.077356Z"
        },
        "trusted": true,
        "id": "7PtHlPzgLrqy"
      },
      "execution_count": null,
      "outputs": []
    },
    {
      "cell_type": "code",
      "source": [
        "# Plotting the training history\n",
        "import matplotlib.pyplot as plt\n",
        "plt.figure(figsize=(12, 16))\n",
        "\n",
        "# Loss plot\n",
        "plt.subplot(4, 2, 1)\n",
        "plt.plot(r.history['loss'], label='Loss')\n",
        "plt.plot(r.history['val_loss'], label='Validation Loss')\n",
        "plt.title('Loss Function Evolution')\n",
        "plt.xlabel('Epochs')\n",
        "plt.ylabel('Loss')\n",
        "plt.legend()\n",
        "\n",
        "# Accuracy plot\n",
        "plt.subplot(4, 2, 2)\n",
        "plt.plot(r.history['accuracy'], label='Accuracy')\n",
        "plt.plot(r.history['val_accuracy'], label='Validation Accuracy')\n",
        "plt.title('Accuracy Function Evolution')\n",
        "plt.xlabel('Epochs')\n",
        "plt.ylabel('Accuracy')\n",
        "plt.legend()\n",
        "\n",
        "# Show plots\n",
        "plt.tight_layout()\n",
        "plt.show()\n",
        "\n",
        "''''plt.subplot(4, 2, 3)\n",
        "plt.plot(r.history['precision'], label='precision')\n",
        "plt.plot(r.history['val_precision'], label='val_precision')\n",
        "plt.title('Precision Function Evolution')\n",
        "plt.legend()\n",
        "\n",
        "plt.subplot(4, 2, 4)\n",
        "plt.plot(r.history['recall'], label='recall')\n",
        "plt.plot(r.history['val_recall'], label='val_recall')\n",
        "plt.title('Recall Function Evolution')\n",
        "plt.legend()'''"
      ],
      "metadata": {
        "execution": {
          "iopub.status.busy": "2024-10-10T07:16:54.85441Z",
          "iopub.execute_input": "2024-10-10T07:16:54.855175Z",
          "iopub.status.idle": "2024-10-10T07:16:55.530107Z",
          "shell.execute_reply.started": "2024-10-10T07:16:54.855131Z",
          "shell.execute_reply": "2024-10-10T07:16:55.529111Z"
        },
        "trusted": true,
        "id": "Ccorr1ShLrqy"
      },
      "execution_count": null,
      "outputs": []
    },
    {
      "cell_type": "code",
      "source": [
        "import numpy as np\n",
        "import matplotlib.pyplot as plt\n",
        "from sklearn.metrics import confusion_matrix, ConfusionMatrixDisplay  # Importing necessary functions\n",
        "from tensorflow.keras.models import Sequential\n",
        "from tensorflow.keras.layers import Conv2D, MaxPooling2D, Flatten, Dense\n",
        "from tensorflow.keras.datasets import cifar10\n",
        "\n",
        "# Make predictions on the test set\n",
        "y_pred = model.predict(X_test)  # Ensure this line is included to define y_pred\n",
        "y_pred = np.argmax(y_pred, axis=1)  # Convert predictions to class labels\n",
        "\n",
        "\n",
        "# Create confusion matrix\n",
        "cm = confusion_matrix(y_test, y_pred)\n",
        "\n",
        "# Define labels for CIFAR-10 dataset classes\n",
        "labels = ['Airplane', 'Automobile', 'Bird', 'Cat', 'Deer',\n",
        "          'Dog', 'Frog', 'Horse', 'Ship', 'Truck']\n",
        "\n",
        "# Display confusion matrix\n",
        "disp = ConfusionMatrixDisplay(confusion_matrix=cm,\n",
        "                              display_labels=labels)\n",
        "\n",
        "fig, ax = plt.subplots(figsize=(10, 10))\n",
        "disp.plot(xticks_rotation='vertical', ax=ax, cmap='summer')\n",
        "\n",
        "plt.show()"
      ],
      "metadata": {
        "execution": {
          "iopub.status.busy": "2024-10-10T07:20:51.964653Z",
          "iopub.execute_input": "2024-10-10T07:20:51.965111Z",
          "iopub.status.idle": "2024-10-10T07:20:53.593491Z",
          "shell.execute_reply.started": "2024-10-10T07:20:51.965069Z",
          "shell.execute_reply": "2024-10-10T07:20:53.592409Z"
        },
        "trusted": true,
        "id": "aoe653kVLrqy"
      },
      "execution_count": null,
      "outputs": []
    },
    {
      "cell_type": "code",
      "source": [
        "pip install scikit-learn"
      ],
      "metadata": {
        "execution": {
          "iopub.status.busy": "2024-10-10T07:22:37.104736Z",
          "iopub.execute_input": "2024-10-10T07:22:37.105866Z",
          "iopub.status.idle": "2024-10-10T07:22:50.86062Z",
          "shell.execute_reply.started": "2024-10-10T07:22:37.105808Z",
          "shell.execute_reply": "2024-10-10T07:22:50.859249Z"
        },
        "trusted": true,
        "id": "d3tmEM_PLrqz"
      },
      "execution_count": null,
      "outputs": []
    },
    {
      "cell_type": "code",
      "source": [
        "# Print classification report\n",
        "import matplotlib.pyplot as plt\n",
        "from sklearn.metrics import confusion_matrix, ConfusionMatrixDisplay, classification_report  # Importing necessary functions\n",
        "print(classification_report(y_test, y_pred))  # Ensure this line is included to print the report"
      ],
      "metadata": {
        "execution": {
          "iopub.status.busy": "2024-10-10T07:23:50.47484Z",
          "iopub.execute_input": "2024-10-10T07:23:50.476216Z",
          "iopub.status.idle": "2024-10-10T07:23:50.502755Z",
          "shell.execute_reply.started": "2024-10-10T07:23:50.476158Z",
          "shell.execute_reply": "2024-10-10T07:23:50.501627Z"
        },
        "trusted": true,
        "id": "HsNYPYNVLrqz"
      },
      "execution_count": null,
      "outputs": []
    },
    {
      "cell_type": "markdown",
      "source": [
        "# Test Data"
      ],
      "metadata": {
        "id": "LszVqebaLrqz"
      }
    },
    {
      "cell_type": "code",
      "source": [
        "# Use the model to make predictions, evaluate on test data\n",
        "test_loss, test_acc = model.evaluate(X_test, y_test, verbose=1)\n",
        "\n",
        "print('\\nTest Accuracy:', test_acc)\n",
        "print('Test Loss:    ', test_loss)"
      ],
      "metadata": {
        "execution": {
          "iopub.status.busy": "2024-10-09T17:51:58.138493Z",
          "iopub.status.idle": "2024-10-09T17:51:58.139093Z",
          "shell.execute_reply.started": "2024-10-09T17:51:58.138796Z",
          "shell.execute_reply": "2024-10-09T17:51:58.138825Z"
        },
        "trusted": true,
        "id": "URSCo62NLrqz"
      },
      "execution_count": null,
      "outputs": []
    },
    {
      "cell_type": "markdown",
      "source": [
        "# Test on one image"
      ],
      "metadata": {
        "id": "OmHKhPx-Lrqz"
      }
    },
    {
      "cell_type": "code",
      "source": [
        "my_image = X_test[100]\n",
        "plt.imshow(my_image)\n",
        "\n",
        "# that's a Deer\n",
        "print(f\" Image 100 is {y_test[100]}\")\n",
        "\n",
        "# correctly predicted as a Deer\n",
        "pred_100 = np.argmax(model.predict(my_image.reshape(1, 32, 32, 3)))\n",
        "print(f\"The model predict that image 100 is {pred_100}\")"
      ],
      "metadata": {
        "execution": {
          "iopub.status.busy": "2024-10-09T17:51:58.140762Z",
          "iopub.status.idle": "2024-10-09T17:51:58.141193Z",
          "shell.execute_reply.started": "2024-10-09T17:51:58.140984Z",
          "shell.execute_reply": "2024-10-09T17:51:58.141006Z"
        },
        "trusted": true,
        "id": "ni4X_JSvLrq0"
      },
      "execution_count": null,
      "outputs": []
    },
    {
      "cell_type": "code",
      "source": [
        "# Define the labels of the dataset\n",
        "labels = ['airplane', 'automobile', 'bird', 'cat', 'deer',\n",
        "          'dog', 'frog', 'horse', 'ship', 'truck']\n",
        "\n",
        "# Let's view more images in a grid format\n",
        "# Define the dimensions of the plot grid\n",
        "W_grid = 5\n",
        "L_grid = 5\n",
        "\n",
        "# fig, axes = plt.subplots(L_grid, W_grid)\n",
        "# subplot return the figure object and axes object\n",
        "# we can use the axes object to plot specific figures at various locations\n",
        "\n",
        "fig, axes = plt.subplots(L_grid, W_grid, figsize = (17,17))\n",
        "\n",
        "axes = axes.ravel() # flaten the 15 x 15 matrix into 225 array\n",
        "\n",
        "n_test = len(X_test) # get the length of the train dataset\n",
        "\n",
        "# Select a random number from 0 to n_train\n",
        "for i in np.arange(0, W_grid * L_grid): # create evenly spaces variables\n",
        "\n",
        "    # Select a random number\n",
        "    index = np.random.randint(0, n_test)\n",
        "    # read and display an image with the selected index\n",
        "    axes[i].imshow(X_test[index,1:])\n",
        "    label_index = int(y_pred[index])\n",
        "    axes[i].set_title(labels[label_index], fontsize = 8)\n",
        "    axes[i].axis('off')\n",
        "\n",
        "plt.subplots_adjust(hspace=0.4)"
      ],
      "metadata": {
        "execution": {
          "iopub.status.busy": "2024-10-09T17:51:58.142932Z",
          "iopub.status.idle": "2024-10-09T17:51:58.143363Z",
          "shell.execute_reply.started": "2024-10-09T17:51:58.143146Z",
          "shell.execute_reply": "2024-10-09T17:51:58.143167Z"
        },
        "trusted": true,
        "id": "eKZvelXYLrq0"
      },
      "execution_count": null,
      "outputs": []
    },
    {
      "cell_type": "code",
      "source": [
        "def plot_image(i, predictions_array, true_label, img):\n",
        "    predictions_array, true_label, img = predictions_array, true_label[i], img[i]\n",
        "    plt.grid(False)\n",
        "    plt.xticks([])\n",
        "    plt.yticks([])\n",
        "\n",
        "    plt.imshow(img, cmap=plt.cm.binary)\n",
        "\n",
        "    predicted_label = np.argmax(predictions_array)\n",
        "    if predicted_label == true_label:\n",
        "        color = 'blue'\n",
        "    else:\n",
        "        color = 'red'\n",
        "\n",
        "    plt.xlabel(f\"{labels[int(predicted_label)]} {100*np.max(predictions_array):2.0f}% ({labels[int(true_label)]})\",\n",
        "               color=color)\n",
        "\n",
        "def plot_value_array(i, predictions_array, true_label):\n",
        "    predictions_array, true_label = predictions_array, int(true_label[i])\n",
        "    plt.grid(False)\n",
        "    plt.xticks(range(10))\n",
        "    plt.yticks([])\n",
        "    thisplot = plt.bar(range(10), predictions_array, color=\"#777777\")\n",
        "    plt.ylim([0, 1])\n",
        "    predicted_label = np.argmax(predictions_array)\n",
        "\n",
        "    thisplot[predicted_label].set_color('red')\n",
        "    thisplot[true_label].set_color('blue')"
      ],
      "metadata": {
        "execution": {
          "iopub.status.busy": "2024-10-09T17:51:58.145321Z",
          "iopub.status.idle": "2024-10-09T17:51:58.145763Z",
          "shell.execute_reply.started": "2024-10-09T17:51:58.145514Z",
          "shell.execute_reply": "2024-10-09T17:51:58.145555Z"
        },
        "trusted": true,
        "id": "7jGtt8m7Lrq1"
      },
      "execution_count": null,
      "outputs": []
    },
    {
      "cell_type": "code",
      "source": [
        "predictions = model.predict(X_test)\n",
        "\n",
        "# Plot the first X test images, their predicted labels, and the true labels.\n",
        "# Color correct predictions in blue and incorrect predictions in red.\n",
        "num_rows = 8\n",
        "num_cols = 5\n",
        "num_images = num_rows * num_cols\n",
        "plt.figure(figsize=(2 * 2 * num_cols, 2 * num_rows))\n",
        "for i in range(num_images):\n",
        "    plt.subplot(num_rows, 2 * num_cols, 2 * i + 1)\n",
        "    plot_image(i, predictions[i], y_test, X_test)\n",
        "    plt.subplot(num_rows, 2*num_cols, 2*i+2)\n",
        "    plot_value_array(i, predictions[i], y_test)\n",
        "plt.tight_layout()\n",
        "plt.show()"
      ],
      "metadata": {
        "execution": {
          "iopub.status.busy": "2024-10-09T17:51:58.147003Z",
          "iopub.status.idle": "2024-10-09T17:51:58.147385Z",
          "shell.execute_reply.started": "2024-10-09T17:51:58.14719Z",
          "shell.execute_reply": "2024-10-09T17:51:58.14721Z"
        },
        "trusted": true,
        "id": "VI5PfoQOLrq1"
      },
      "execution_count": null,
      "outputs": []
    }
  ]
}